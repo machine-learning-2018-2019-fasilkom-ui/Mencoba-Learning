{
 "cells": [
  {
   "cell_type": "markdown",
   "metadata": {},
   "source": [
    "# Tugas Akhir Pemelajaran Mesin\n",
    "### Tim Mencoba Learning\n",
    "##### Pipeline Prediksi Cardiovascular Disease dengan Menggunakan Algoritma Klasifikasi \n",
    "##### oleh Kelly William (1606876784) - Kristianto (1606889856) - Marco Kenata (1606876771)\n",
    "___"
   ]
  },
  {
   "cell_type": "markdown",
   "metadata": {},
   "source": [
    "### Persiapan environment kerja\n",
    "Persiapan ini dilakukan dengan meng-import beberapa library yang akan digunakan dalam pengerjaan proyek ini"
   ]
  },
  {
   "cell_type": "code",
   "execution_count": 1,
   "metadata": {},
   "outputs": [],
   "source": [
    "from sklearn.ensemble import GradientBoostingClassifier\n",
    "from sklearn.model_selection import train_test_split\n",
    "import matplotlib.pyplot as plt\n",
    "import numpy as np\n",
    "import pandas as pd\n",
    "import seaborn as sns"
   ]
  },
  {
   "cell_type": "markdown",
   "metadata": {},
   "source": [
    "---"
   ]
  },
  {
   "cell_type": "markdown",
   "metadata": {},
   "source": [
    "### Persiapan dataset yang akan digunakan\n",
    "Dataset yang digunakan adalah dataset \"Cardiovascular Disease dataset\" yang dapat ditemukan di Kaggle.com"
   ]
  },
  {
   "cell_type": "code",
   "execution_count": 2,
   "metadata": {},
   "outputs": [
    {
     "name": "stdout",
     "output_type": "stream",
     "text": [
      "Dataset memiliki 70000 baris dan 13 kolom\n",
      "\n",
      "   id    age  gender  height  weight   ...    gluc  smoke  alco  active  cardio\n",
      "0   0  18393       2     168    62.0   ...       1      0     0       1       0\n",
      "1   1  20228       1     156    85.0   ...       1      0     0       1       1\n",
      "2   2  18857       1     165    64.0   ...       1      0     0       0       1\n",
      "3   3  17623       2     169    82.0   ...       1      0     0       1       1\n",
      "4   4  17474       1     156    56.0   ...       1      0     0       0       0\n",
      "\n",
      "[5 rows x 13 columns]\n"
     ]
    }
   ],
   "source": [
    "cardio_dataset_raw = pd.read_csv(\"../input/cardio_train.csv\",sep=\";\")\n",
    "\n",
    "print(\"Dataset memiliki \" + str(len(cardio_dataset_raw)) + \" baris dan \" + str(len(cardio_dataset_raw.columns)) + \" kolom\")\n",
    "print()\n",
    "print(cardio_dataset_raw.head())"
   ]
  },
  {
   "cell_type": "code",
   "execution_count": 3,
   "metadata": {},
   "outputs": [
    {
     "data": {
      "text/html": [
       "<div>\n",
       "<style scoped>\n",
       "    .dataframe tbody tr th:only-of-type {\n",
       "        vertical-align: middle;\n",
       "    }\n",
       "\n",
       "    .dataframe tbody tr th {\n",
       "        vertical-align: top;\n",
       "    }\n",
       "\n",
       "    .dataframe thead th {\n",
       "        text-align: right;\n",
       "    }\n",
       "</style>\n",
       "<table border=\"1\" class=\"dataframe\">\n",
       "  <thead>\n",
       "    <tr style=\"text-align: right;\">\n",
       "      <th></th>\n",
       "      <th>id</th>\n",
       "      <th>age</th>\n",
       "      <th>gender</th>\n",
       "      <th>height</th>\n",
       "      <th>weight</th>\n",
       "      <th>ap_hi</th>\n",
       "      <th>ap_lo</th>\n",
       "      <th>cholesterol</th>\n",
       "      <th>gluc</th>\n",
       "      <th>smoke</th>\n",
       "      <th>alco</th>\n",
       "      <th>active</th>\n",
       "      <th>cardio</th>\n",
       "    </tr>\n",
       "  </thead>\n",
       "  <tbody>\n",
       "    <tr>\n",
       "      <th>count</th>\n",
       "      <td>70000.000000</td>\n",
       "      <td>70000.000000</td>\n",
       "      <td>70000.000000</td>\n",
       "      <td>70000.000000</td>\n",
       "      <td>70000.000000</td>\n",
       "      <td>70000.000000</td>\n",
       "      <td>70000.000000</td>\n",
       "      <td>70000.000000</td>\n",
       "      <td>70000.000000</td>\n",
       "      <td>70000.000000</td>\n",
       "      <td>70000.000000</td>\n",
       "      <td>70000.000000</td>\n",
       "      <td>70000.000000</td>\n",
       "    </tr>\n",
       "    <tr>\n",
       "      <th>mean</th>\n",
       "      <td>49972.419900</td>\n",
       "      <td>19468.865814</td>\n",
       "      <td>1.349571</td>\n",
       "      <td>164.359229</td>\n",
       "      <td>74.205690</td>\n",
       "      <td>128.817286</td>\n",
       "      <td>96.630414</td>\n",
       "      <td>1.366871</td>\n",
       "      <td>1.226457</td>\n",
       "      <td>0.088129</td>\n",
       "      <td>0.053771</td>\n",
       "      <td>0.803729</td>\n",
       "      <td>0.499700</td>\n",
       "    </tr>\n",
       "    <tr>\n",
       "      <th>std</th>\n",
       "      <td>28851.302323</td>\n",
       "      <td>2467.251667</td>\n",
       "      <td>0.476838</td>\n",
       "      <td>8.210126</td>\n",
       "      <td>14.395757</td>\n",
       "      <td>154.011419</td>\n",
       "      <td>188.472530</td>\n",
       "      <td>0.680250</td>\n",
       "      <td>0.572270</td>\n",
       "      <td>0.283484</td>\n",
       "      <td>0.225568</td>\n",
       "      <td>0.397179</td>\n",
       "      <td>0.500003</td>\n",
       "    </tr>\n",
       "    <tr>\n",
       "      <th>min</th>\n",
       "      <td>0.000000</td>\n",
       "      <td>10798.000000</td>\n",
       "      <td>1.000000</td>\n",
       "      <td>55.000000</td>\n",
       "      <td>10.000000</td>\n",
       "      <td>-150.000000</td>\n",
       "      <td>-70.000000</td>\n",
       "      <td>1.000000</td>\n",
       "      <td>1.000000</td>\n",
       "      <td>0.000000</td>\n",
       "      <td>0.000000</td>\n",
       "      <td>0.000000</td>\n",
       "      <td>0.000000</td>\n",
       "    </tr>\n",
       "    <tr>\n",
       "      <th>25%</th>\n",
       "      <td>25006.750000</td>\n",
       "      <td>17664.000000</td>\n",
       "      <td>1.000000</td>\n",
       "      <td>159.000000</td>\n",
       "      <td>65.000000</td>\n",
       "      <td>120.000000</td>\n",
       "      <td>80.000000</td>\n",
       "      <td>1.000000</td>\n",
       "      <td>1.000000</td>\n",
       "      <td>0.000000</td>\n",
       "      <td>0.000000</td>\n",
       "      <td>1.000000</td>\n",
       "      <td>0.000000</td>\n",
       "    </tr>\n",
       "    <tr>\n",
       "      <th>50%</th>\n",
       "      <td>50001.500000</td>\n",
       "      <td>19703.000000</td>\n",
       "      <td>1.000000</td>\n",
       "      <td>165.000000</td>\n",
       "      <td>72.000000</td>\n",
       "      <td>120.000000</td>\n",
       "      <td>80.000000</td>\n",
       "      <td>1.000000</td>\n",
       "      <td>1.000000</td>\n",
       "      <td>0.000000</td>\n",
       "      <td>0.000000</td>\n",
       "      <td>1.000000</td>\n",
       "      <td>0.000000</td>\n",
       "    </tr>\n",
       "    <tr>\n",
       "      <th>75%</th>\n",
       "      <td>74889.250000</td>\n",
       "      <td>21327.000000</td>\n",
       "      <td>2.000000</td>\n",
       "      <td>170.000000</td>\n",
       "      <td>82.000000</td>\n",
       "      <td>140.000000</td>\n",
       "      <td>90.000000</td>\n",
       "      <td>2.000000</td>\n",
       "      <td>1.000000</td>\n",
       "      <td>0.000000</td>\n",
       "      <td>0.000000</td>\n",
       "      <td>1.000000</td>\n",
       "      <td>1.000000</td>\n",
       "    </tr>\n",
       "    <tr>\n",
       "      <th>max</th>\n",
       "      <td>99999.000000</td>\n",
       "      <td>23713.000000</td>\n",
       "      <td>2.000000</td>\n",
       "      <td>250.000000</td>\n",
       "      <td>200.000000</td>\n",
       "      <td>16020.000000</td>\n",
       "      <td>11000.000000</td>\n",
       "      <td>3.000000</td>\n",
       "      <td>3.000000</td>\n",
       "      <td>1.000000</td>\n",
       "      <td>1.000000</td>\n",
       "      <td>1.000000</td>\n",
       "      <td>1.000000</td>\n",
       "    </tr>\n",
       "  </tbody>\n",
       "</table>\n",
       "</div>"
      ],
      "text/plain": [
       "                 id           age      ...             active        cardio\n",
       "count  70000.000000  70000.000000      ...       70000.000000  70000.000000\n",
       "mean   49972.419900  19468.865814      ...           0.803729      0.499700\n",
       "std    28851.302323   2467.251667      ...           0.397179      0.500003\n",
       "min        0.000000  10798.000000      ...           0.000000      0.000000\n",
       "25%    25006.750000  17664.000000      ...           1.000000      0.000000\n",
       "50%    50001.500000  19703.000000      ...           1.000000      0.000000\n",
       "75%    74889.250000  21327.000000      ...           1.000000      1.000000\n",
       "max    99999.000000  23713.000000      ...           1.000000      1.000000\n",
       "\n",
       "[8 rows x 13 columns]"
      ]
     },
     "execution_count": 3,
     "metadata": {},
     "output_type": "execute_result"
    }
   ],
   "source": [
    "cardio_dataset_raw.describe()"
   ]
  },
  {
   "cell_type": "markdown",
   "metadata": {},
   "source": [
    "---"
   ]
  },
  {
   "cell_type": "markdown",
   "metadata": {},
   "source": [
    "### Preprocessing Dataset\n",
    "Pada tahap ini, dataset akan di-preprocessing terlebih dahulu dengan urutan pengerjaan sebagai berikut:\n",
    "* Pengecekan nilai null\n",
    "* Pengecekan outlier\n",
    "* Pengecekan tekanan sistole dan diastole\n",
    "* Penghapusan row yang bermasalah\n",
    "* Feature Engineering - Feature Creation - Membuat Fitur Body Mass Index (BMI)\n",
    "* Feature Engineering - Feature Creation - Blood Pressure\n",
    "* Feature Selection"
   ]
  },
  {
   "cell_type": "markdown",
   "metadata": {},
   "source": [
    "#### Pengecekan nilai null"
   ]
  },
  {
   "cell_type": "code",
   "execution_count": 4,
   "metadata": {},
   "outputs": [
    {
     "data": {
      "text/plain": [
       "id             0\n",
       "age            0\n",
       "gender         0\n",
       "height         0\n",
       "weight         0\n",
       "ap_hi          0\n",
       "ap_lo          0\n",
       "cholesterol    0\n",
       "gluc           0\n",
       "smoke          0\n",
       "alco           0\n",
       "active         0\n",
       "cardio         0\n",
       "dtype: int64"
      ]
     },
     "execution_count": 4,
     "metadata": {},
     "output_type": "execute_result"
    }
   ],
   "source": [
    "cardio_dataset_raw.isnull().sum()"
   ]
  },
  {
   "cell_type": "markdown",
   "metadata": {},
   "source": [
    "Dari pengecekan di atas, dataset tidak memiliki nilai null, sehingga preprocessing akan dilanjutkan ke tahap berikutnya."
   ]
  },
  {
   "cell_type": "markdown",
   "metadata": {},
   "source": [
    "#### Pengecekan outlier"
   ]
  },
  {
   "cell_type": "code",
   "execution_count": 5,
   "metadata": {},
   "outputs": [
    {
     "data": {
      "image/png": "[encoded data removed]",
      "text/plain": [
       "<Figure size 432x288 with 1 Axes>"
      ]
     },
     "metadata": {},
     "output_type": "display_data"
    },
    {
     "data": {
      "image/png": "[encoded data removed]",
      "text/plain": [
       "<Figure size 432x288 with 1 Axes>"
      ]
     },
     "metadata": {},
     "output_type": "display_data"
    },
    {
     "data": {
      "image/png": "[encoded data removed]",
      "text/plain": [
       "<Figure size 432x288 with 1 Axes>"
      ]
     },
     "metadata": {},
     "output_type": "display_data"
    },
    {
     "data": {
      "image/png": "[encoded data removed]",
      "text/plain": [
       "<Figure size 432x288 with 1 Axes>"
      ]
     },
     "metadata": {},
     "output_type": "display_data"
    },
    {
     "data": {
      "image/png": "[encoded data removed]",
      "text/plain": [
       "<Figure size 432x288 with 1 Axes>"
      ]
     },
     "metadata": {},
     "output_type": "display_data"
    },
    {
     "data": {
      "image/png": "[encoded data removed]",
      "text/plain": [
       "<Figure size 432x288 with 1 Axes>"
      ]
     },
     "metadata": {},
     "output_type": "display_data"
    },
    {
     "data": {
      "image/png": "[encoded data removed]",
      "text/plain": [
       "<Figure size 432x288 with 1 Axes>"
      ]
     },
     "metadata": {},
     "output_type": "display_data"
    },
    {
     "data": {
      "image/png": "[encoded data removed]",
      "text/plain": [
       "<Figure size 432x288 with 1 Axes>"
      ]
     },
     "metadata": {},
     "output_type": "display_data"
    },
    {
     "data": {
      "image/png": "[encoded data removed]",
      "text/plain": [
       "<Figure size 432x288 with 1 Axes>"
      ]
     },
     "metadata": {},
     "output_type": "display_data"
    },
    {
     "data": {
      "image/png": "[encoded data removed]",
      "text/plain": [
       "<Figure size 432x288 with 1 Axes>"
      ]
     },
     "metadata": {},
     "output_type": "display_data"
    },
    {
     "data": {
      "image/png": "[encoded data removed]",
      "text/plain": [
       "<Figure size 432x288 with 1 Axes>"
      ]
     },
     "metadata": {},
     "output_type": "display_data"
    },
    {
     "data": {
      "image/png": "[encoded data removed]",
      "text/plain": [
       "<Figure size 432x288 with 1 Axes>"
      ]
     },
     "metadata": {},
     "output_type": "display_data"
    },
    {
     "data": {
      "image/png": "[encoded data removed]",
      "text/plain": [
       "<Figure size 432x288 with 1 Axes>"
      ]
     },
     "metadata": {},
     "output_type": "display_data"
    }
   ],
   "source": [
    "for col in cardio_dataset_raw.columns:\n",
    "    sns.boxplot(x=cardio_dataset_raw[col])\n",
    "    plt.show()"
   ]
  },
  {
   "cell_type": "markdown",
   "metadata": {},
   "source": [
    "Dari pengecekan di atas, ditemukan outlier pada beberapa fitur, sehingga perlu dihapus pada tahapan berikutnya. Fitur yang akan dilakukan pendataan outlier adalah fitur-fitur yang bersifat numerical dan kontinu, yaitu age, height, weight, ap_hi, dan ap_lo. Kami menggunakan IQR untuk pendataan outlier karena metode tersebut juga digunakan dalam pengecekan outlier dengan menggunakan boxplot."
   ]
  },
  {
   "cell_type": "code",
   "execution_count": 6,
   "metadata": {},
   "outputs": [
    {
     "name": "stdout",
     "output_type": "stream",
     "text": [
      "Fitur age memiliki 4 data outlier\n",
      "Fitur height memiliki 490 data outlier\n",
      "Fitur weight memiliki 1810 data outlier\n",
      "Fitur ap_hi memiliki 1435 data outlier\n",
      "Fitur ap_lo memiliki 4632 data outlier\n"
     ]
    }
   ],
   "source": [
    "copy_of_cardio_dataset_raw = cardio_dataset_raw.copy()\n",
    "check_outlier_column = ['age','height','weight','ap_hi','ap_lo']\n",
    "\n",
    "# List untuk mendata row yang memiliki nilai outlier\n",
    "row_with_outlier = []\n",
    "\n",
    "# Menghitung IQR\n",
    "Q1 = copy_of_cardio_dataset_raw.quantile(0.25)\n",
    "Q3 = copy_of_cardio_dataset_raw.quantile(0.75)\n",
    "IQR = Q3 - Q1\n",
    "rangeBawah = (Q1 - 1.5 * IQR) // 1\n",
    "rangeAtas = (Q3 + 1.5 * IQR) // 1\n",
    "\n",
    "for i in range(len(check_outlier_column)):\n",
    "    countOutlier = 0\n",
    "    for j in range(len(copy_of_cardio_dataset_raw)):        \n",
    "        #Cek apakah data lebih kecil dari Q1 - 1.5 * IQR\n",
    "        if(copy_of_cardio_dataset_raw.loc[j][check_outlier_column[i]] < rangeBawah[check_outlier_column[i]]): \n",
    "            countOutlier = countOutlier + 1\n",
    "            row_with_outlier.append(j)\n",
    "            \n",
    "        #Cek apakah data lebih besar dari Q3 + 1.5 * IQR\n",
    "        elif(copy_of_cardio_dataset_raw.loc[j][check_outlier_column[i]] > rangeAtas[check_outlier_column[i]]):\n",
    "            countOutlier = countOutlier + 1\n",
    "            row_with_outlier.append(j)            \n",
    "            \n",
    "    print(\"Fitur \" + check_outlier_column[i] + \" memiliki \" + str(countOutlier) + \" data outlier\")"
   ]
  },
  {
   "cell_type": "markdown",
   "metadata": {},
   "source": [
    "Pendataan row yang memiliki nilai outlier di atas akan disimpan dan diproses pada tahap menghapus row yang bermasalah."
   ]
  },
  {
   "cell_type": "markdown",
   "metadata": {},
   "source": [
    "#### Pengecekan tekanan sistole dan diastole\n",
    "\n",
    "Secara logika, tekanan sistole (disimpan pada fitur ap_hi) harus lebih tinggi dari tekanan diastole (disimpan pada fitur ap_lo)"
   ]
  },
  {
   "cell_type": "code",
   "execution_count": 7,
   "metadata": {},
   "outputs": [
    {
     "name": "stdout",
     "output_type": "stream",
     "text": [
      "Dataset memiliki 1234 yang memiliki ap_lo yang lebih tinggi dari ap_hi\n"
     ]
    }
   ],
   "source": [
    "# List untuk mendata row yang memiliki nilai ap_hi lebih kecil dari ap_lo\n",
    "row_with_error = []\n",
    "\n",
    "for i in range(len(copy_of_cardio_dataset_raw)):\n",
    "    if(copy_of_cardio_dataset_raw.loc[i]['ap_hi'] < copy_of_cardio_dataset_raw.loc[i]['ap_lo']):\n",
    "        row_with_error.append(i)\n",
    "    \n",
    "print(\"Dataset memiliki \" + str(len(row_with_error)) + \" yang memiliki ap_lo yang lebih tinggi dari ap_hi\")"
   ]
  },
  {
   "cell_type": "markdown",
   "metadata": {},
   "source": [
    "Pendataan row yang memiliki nilai ap_hi lebih kecil dari ap_lo akan disimpan dan diproses pada tahap menghapus row yang bermasalah."
   ]
  },
  {
   "cell_type": "markdown",
   "metadata": {},
   "source": [
    "#### Penghapusan row yang bermasalah"
   ]
  },
  {
   "cell_type": "code",
   "execution_count": 8,
   "metadata": {},
   "outputs": [
    {
     "name": "stdout",
     "output_type": "stream",
     "text": [
      "Secara total, terdapat 7470 baris yang harus dibersihkan\n"
     ]
    }
   ],
   "source": [
    "# Menggabungkan row_with_outlier dengan row_with_error\n",
    "row_with_errors = row_with_outlier + row_with_error\n",
    "\n",
    "# Cek row yang memiliki outlier & error, hapus row duplikasi, kemudian sort row dari terbesar ke terkecil\n",
    "row_with_errors = list(dict.fromkeys(row_with_errors))\n",
    "\n",
    "# Sort row dari terbesar ke terkecil\n",
    "for i in range(len(row_with_errors)):\n",
    "    swap = i + np.argmax(row_with_errors[i:])\n",
    "    (row_with_errors[i], row_with_errors[swap]) = (row_with_errors[swap], row_with_errors[i])\n",
    "\n",
    "print(\"Secara total, terdapat \" + str(len(row_with_errors)) + \" baris yang harus dibersihkan\")"
   ]
  },
  {
   "cell_type": "markdown",
   "metadata": {},
   "source": [
    "Setelah data row yang bermasalah digabung, maka dilanjutkan dengan menghapus row tersebut dan disimpan ke dalam dataframe yang baru"
   ]
  },
  {
   "cell_type": "code",
   "execution_count": 9,
   "metadata": {},
   "outputs": [
    {
     "name": "stdout",
     "output_type": "stream",
     "text": [
      "Dataset yang baru memiliki 62530 baris dan 14 kolom\n",
      "\n",
      "   index  id    age  gender  height   ...    gluc  smoke  alco  active  cardio\n",
      "0      0   0  18393       2     168   ...       1      0     0       1       0\n",
      "1      1   1  20228       1     156   ...       1      0     0       1       1\n",
      "2      2   2  18857       1     165   ...       1      0     0       0       1\n",
      "3      3   3  17623       2     169   ...       1      0     0       1       1\n",
      "4      5   8  21914       1     151   ...       2      0     0       0       0\n",
      "\n",
      "[5 rows x 14 columns]\n"
     ]
    }
   ],
   "source": [
    "cleaned_cardio_dataset = copy_of_cardio_dataset_raw.copy().drop(row_with_errors, axis=0)\n",
    "\n",
    "#Reset row index\n",
    "cleaned_cardio_dataset = cleaned_cardio_dataset.reset_index()\n",
    "\n",
    "print(\"Dataset yang baru memiliki \" + str(len(cleaned_cardio_dataset)) + \" baris dan \" + str(len(cleaned_cardio_dataset.columns)) + \" kolom\")\n",
    "print()\n",
    "print(cleaned_cardio_dataset.head(5))\n"
   ]
  },
  {
   "cell_type": "markdown",
   "metadata": {},
   "source": [
    "#### Feature Engineering - Feature Creation - Membuat Fitur Body Mass Index (BMI)"
   ]
  },
  {
   "cell_type": "markdown",
   "metadata": {},
   "source": [
    "Dari fitur height dan weight, dapat dibuat suatu fitur baru, yaitu Body Mass Index (BMI). Fitur BMI terdiri dari kategori yang dapat didefinisikan sebagai berikut:\n",
    "\n",
    "| Kategori | BMI | Kategori (dalam angka) |\n",
    "| :------: | :---: | :--------------------: |\n",
    "| Underweight | < 18.5 | 0 |\n",
    "| Normal | 18.5 - 24.9 | 1 |\n",
    "| Overweight | 25 - 29.9 | 2 |\n",
    "| Obesity | >30 | 3 | "
   ]
  },
  {
   "cell_type": "code",
   "execution_count": 10,
   "metadata": {},
   "outputs": [
    {
     "name": "stdout",
     "output_type": "stream",
     "text": [
      "   index  id    age  gender  height ...   smoke  alco  active  cardio  bmi\n",
      "0      0   0  18393       2     168 ...       0     0       1       0    1\n",
      "1      1   1  20228       1     156 ...       0     0       1       1    3\n",
      "2      2   2  18857       1     165 ...       0     0       0       1    1\n",
      "3      3   3  17623       2     169 ...       0     0       1       1    2\n",
      "4      5   8  21914       1     151 ...       0     0       0       0    2\n",
      "\n",
      "[5 rows x 15 columns]\n"
     ]
    }
   ],
   "source": [
    "bmi = []\n",
    "\n",
    "def convert_bmi_to_list(list_bmi):\n",
    "    for i in range(len(list_bmi)):\n",
    "        if(list_bmi[i] < 18.5):\n",
    "            list_bmi[i] = 0 #Underweight\n",
    "        elif(list_bmi[i] >= 18.5 and list_bmi[i] < 25):\n",
    "            list_bmi[i] = 1 #Normal\n",
    "        elif(list_bmi[i] >= 25 and list_bmi[i] < 30):\n",
    "            list_bmi[i] = 2 #Overweight\n",
    "        elif(list_bmi[i] >= 30):\n",
    "            list_bmi[i] = 3 #Obesity\n",
    "    return list_bmi\n",
    "\n",
    "for i in range(len(cleaned_cardio_dataset)):\n",
    "    bmi.append(cleaned_cardio_dataset.loc[i]['weight'] / (cleaned_cardio_dataset.loc[i]['height'] / 100) ** 2)\n",
    "            \n",
    "convert_bmi_to_list(bmi)\n",
    "\n",
    "#Tambah fitur BMI ke dalam dataframe\n",
    "cleaned_cardio_dataset['bmi'] = bmi\n",
    "\n",
    "print(cleaned_cardio_dataset.head(5))"
   ]
  },
  {
   "cell_type": "markdown",
   "metadata": {},
   "source": [
    "Setelah fitur BMI ditambahkan ke dalam dataframe, maka fitur height dan weight dapat dihapus dari dataframe."
   ]
  },
  {
   "cell_type": "code",
   "execution_count": 11,
   "metadata": {},
   "outputs": [
    {
     "data": {
      "text/html": [
       "<div>\n",
       "<style scoped>\n",
       "    .dataframe tbody tr th:only-of-type {\n",
       "        vertical-align: middle;\n",
       "    }\n",
       "\n",
       "    .dataframe tbody tr th {\n",
       "        vertical-align: top;\n",
       "    }\n",
       "\n",
       "    .dataframe thead th {\n",
       "        text-align: right;\n",
       "    }\n",
       "</style>\n",
       "<table border=\"1\" class=\"dataframe\">\n",
       "  <thead>\n",
       "    <tr style=\"text-align: right;\">\n",
       "      <th></th>\n",
       "      <th>index</th>\n",
       "      <th>id</th>\n",
       "      <th>age</th>\n",
       "      <th>gender</th>\n",
       "      <th>ap_hi</th>\n",
       "      <th>ap_lo</th>\n",
       "      <th>cholesterol</th>\n",
       "      <th>gluc</th>\n",
       "      <th>smoke</th>\n",
       "      <th>alco</th>\n",
       "      <th>active</th>\n",
       "      <th>cardio</th>\n",
       "      <th>bmi</th>\n",
       "    </tr>\n",
       "  </thead>\n",
       "  <tbody>\n",
       "    <tr>\n",
       "      <th>0</th>\n",
       "      <td>0</td>\n",
       "      <td>0</td>\n",
       "      <td>18393</td>\n",
       "      <td>2</td>\n",
       "      <td>110</td>\n",
       "      <td>80</td>\n",
       "      <td>1</td>\n",
       "      <td>1</td>\n",
       "      <td>0</td>\n",
       "      <td>0</td>\n",
       "      <td>1</td>\n",
       "      <td>0</td>\n",
       "      <td>1</td>\n",
       "    </tr>\n",
       "    <tr>\n",
       "      <th>1</th>\n",
       "      <td>1</td>\n",
       "      <td>1</td>\n",
       "      <td>20228</td>\n",
       "      <td>1</td>\n",
       "      <td>140</td>\n",
       "      <td>90</td>\n",
       "      <td>3</td>\n",
       "      <td>1</td>\n",
       "      <td>0</td>\n",
       "      <td>0</td>\n",
       "      <td>1</td>\n",
       "      <td>1</td>\n",
       "      <td>3</td>\n",
       "    </tr>\n",
       "    <tr>\n",
       "      <th>2</th>\n",
       "      <td>2</td>\n",
       "      <td>2</td>\n",
       "      <td>18857</td>\n",
       "      <td>1</td>\n",
       "      <td>130</td>\n",
       "      <td>70</td>\n",
       "      <td>3</td>\n",
       "      <td>1</td>\n",
       "      <td>0</td>\n",
       "      <td>0</td>\n",
       "      <td>0</td>\n",
       "      <td>1</td>\n",
       "      <td>1</td>\n",
       "    </tr>\n",
       "    <tr>\n",
       "      <th>3</th>\n",
       "      <td>3</td>\n",
       "      <td>3</td>\n",
       "      <td>17623</td>\n",
       "      <td>2</td>\n",
       "      <td>150</td>\n",
       "      <td>100</td>\n",
       "      <td>1</td>\n",
       "      <td>1</td>\n",
       "      <td>0</td>\n",
       "      <td>0</td>\n",
       "      <td>1</td>\n",
       "      <td>1</td>\n",
       "      <td>2</td>\n",
       "    </tr>\n",
       "    <tr>\n",
       "      <th>4</th>\n",
       "      <td>5</td>\n",
       "      <td>8</td>\n",
       "      <td>21914</td>\n",
       "      <td>1</td>\n",
       "      <td>120</td>\n",
       "      <td>80</td>\n",
       "      <td>2</td>\n",
       "      <td>2</td>\n",
       "      <td>0</td>\n",
       "      <td>0</td>\n",
       "      <td>0</td>\n",
       "      <td>0</td>\n",
       "      <td>2</td>\n",
       "    </tr>\n",
       "  </tbody>\n",
       "</table>\n",
       "</div>"
      ],
      "text/plain": [
       "   index  id    age  gender  ap_hi ...   smoke  alco  active  cardio  bmi\n",
       "0      0   0  18393       2    110 ...       0     0       1       0    1\n",
       "1      1   1  20228       1    140 ...       0     0       1       1    3\n",
       "2      2   2  18857       1    130 ...       0     0       0       1    1\n",
       "3      3   3  17623       2    150 ...       0     0       1       1    2\n",
       "4      5   8  21914       1    120 ...       0     0       0       0    2\n",
       "\n",
       "[5 rows x 13 columns]"
      ]
     },
     "execution_count": 11,
     "metadata": {},
     "output_type": "execute_result"
    }
   ],
   "source": [
    "cleaned_cardio_dataset = cleaned_cardio_dataset.drop(columns=['height', 'weight'])\n",
    "cleaned_cardio_dataset.head(5)"
   ]
  },
  {
   "cell_type": "markdown",
   "metadata": {},
   "source": [
    "#### Feature Engineering - Feature Creation - Blood Pressure"
   ]
  },
  {
   "cell_type": "markdown",
   "metadata": {},
   "source": [
    "Dari fitur ap_hi dan ap_lo, dapat dibuat suatu fitur baru, yaitu Blood Pressure. Fitur Blood Pressure terdiri dari kategori yang dapat didefinisikan sebagai berikut (berdasarkan bloodpressureUK):\n",
    "\n",
    "| Kategori | Blood Pressure | Kategori (dalam angka) |\n",
    "| :------: | :---: | :--------------------: |\n",
    "| Low | ap_hi < 90 or ap_lo < 60 | 0 |\n",
    "| Normal | 90 <= ap_hi < 140 and 60 <= ap_lo < 90 | 1 |\n",
    "| High | ap_hi >= 140 or ap_lo >= 90 | 2 |"
   ]
  },
  {
   "cell_type": "code",
   "execution_count": 12,
   "metadata": {},
   "outputs": [
    {
     "name": "stdout",
     "output_type": "stream",
     "text": [
      "   index  id    age  gender  ap_hi ...  alco  active  cardio  bmi  bp\n",
      "0      0   0  18393       2    110 ...     0       1       0    1   1\n",
      "1      1   1  20228       1    140 ...     0       1       1    3   2\n",
      "2      2   2  18857       1    130 ...     0       0       1    1   1\n",
      "3      3   3  17623       2    150 ...     0       1       1    2   2\n",
      "4      5   8  21914       1    120 ...     0       0       0    2   1\n",
      "\n",
      "[5 rows x 14 columns]\n"
     ]
    }
   ],
   "source": [
    "bp = []\n",
    "\n",
    "for i in range(len(cleaned_cardio_dataset)):\n",
    "    if(cleaned_cardio_dataset.loc[i]['ap_hi'] < 90 or cleaned_cardio_dataset.loc[i]['ap_lo'] < 60):\n",
    "        bp.append(0) #Low BP\n",
    "    elif(cleaned_cardio_dataset.loc[i]['ap_hi'] >= 90 and cleaned_cardio_dataset.loc[i]['ap_hi'] < 140 and cleaned_cardio_dataset.loc[i]['ap_lo'] >= 60 and cleaned_cardio_dataset.loc[i]['ap_lo'] < 90):\n",
    "        bp.append(1) #Normal BP\n",
    "    elif(cleaned_cardio_dataset.loc[i]['ap_hi'] >= 140 and cleaned_cardio_dataset.loc[i]['ap_lo'] >= 90):\n",
    "        bp.append(2) #High BP\n",
    "    else:\n",
    "        bp.append(-1) #Error\n",
    "\n",
    "# Tambah fitur bp ke dalam dataframe\n",
    "cleaned_cardio_dataset['bp'] = bp\n",
    "\n",
    "print(cleaned_cardio_dataset.head(5))"
   ]
  },
  {
   "cell_type": "markdown",
   "metadata": {},
   "source": [
    "Dalam pengerjaan, dapat ditemukan suatu kasus dimana ap_hi = 130 dan ap_lo 90. Dari tabel yang diberikan, kasus tersebut tidak bisa dikategorikan ke Blood Pressure manapun, sehingga diputuskan agar data tersebut dihapus. Untuk mempermudah penghapusan data, kasus tersebut dikategorikan sebagai -1."
   ]
  },
  {
   "cell_type": "code",
   "execution_count": 13,
   "metadata": {},
   "outputs": [
    {
     "name": "stdout",
     "output_type": "stream",
     "text": [
      "Terdapat 8749 baris yang memiliki bp error\n"
     ]
    }
   ],
   "source": [
    "# List untuk mendata row yang memiliki kategori blood pressure -1\n",
    "row_with_bp_error = []\n",
    "\n",
    "for i in range(len(cleaned_cardio_dataset)):\n",
    "    if(cleaned_cardio_dataset.loc[i]['bp'] == -1):\n",
    "        row_with_bp_error.append(i)\n",
    "        \n",
    "print(\"Terdapat \" + str(len(row_with_bp_error)) + \" baris yang memiliki bp error\")"
   ]
  },
  {
   "cell_type": "code",
   "execution_count": 14,
   "metadata": {},
   "outputs": [],
   "source": [
    "# Cek row yang memiliki bp error, hapus row duplikasi, kemudian sort row dari terbesar ke terkecil\n",
    "row_with_bp_error = list(dict.fromkeys(row_with_bp_error))\n",
    "\n",
    "# Sort row dari terbesar ke terkecil\n",
    "for i in range(len(row_with_bp_error)):\n",
    "    swap = i + np.argmax(row_with_bp_error[i:])\n",
    "    (row_with_bp_error[i], row_with_bp_error[swap]) = (row_with_bp_error[swap], row_with_bp_error[i])"
   ]
  },
  {
   "cell_type": "code",
   "execution_count": 15,
   "metadata": {},
   "outputs": [
    {
     "name": "stdout",
     "output_type": "stream",
     "text": [
      "Dataset yang baru memiliki 53781 baris dan 15 kolom\n",
      "\n",
      "   level_0  index  id    age  gender ...  alco  active  cardio  bmi  bp\n",
      "0        0      0   0  18393       2 ...     0       1       0    1   1\n",
      "1        1      1   1  20228       1 ...     0       1       1    3   2\n",
      "2        2      2   2  18857       1 ...     0       0       1    1   1\n",
      "3        3      3   3  17623       2 ...     0       1       1    2   2\n",
      "4        4      5   8  21914       1 ...     0       0       0    2   1\n",
      "\n",
      "[5 rows x 15 columns]\n"
     ]
    }
   ],
   "source": [
    "cleaned_cardio_dataset = cleaned_cardio_dataset.drop(row_with_bp_error, axis=0)\n",
    "\n",
    "#Reset row index\n",
    "cleaned_cardio_dataset = cleaned_cardio_dataset.reset_index()\n",
    "\n",
    "print(\"Dataset yang baru memiliki \" + str(len(cleaned_cardio_dataset)) + \" baris dan \" + str(len(cleaned_cardio_dataset.columns)) + \" kolom\")\n",
    "print()\n",
    "print(cleaned_cardio_dataset.head(5))"
   ]
  },
  {
   "cell_type": "markdown",
   "metadata": {},
   "source": [
    "Setelah fitur BMI ditambahkan ke dalam dataframe dan sudah menghapus row dengan blood pressure yang bermasalah, maka fitur ap_hi dan ap_lo dapat dihapus dari dataframe."
   ]
  },
  {
   "cell_type": "code",
   "execution_count": 16,
   "metadata": {},
   "outputs": [
    {
     "data": {
      "text/html": [
       "<div>\n",
       "<style scoped>\n",
       "    .dataframe tbody tr th:only-of-type {\n",
       "        vertical-align: middle;\n",
       "    }\n",
       "\n",
       "    .dataframe tbody tr th {\n",
       "        vertical-align: top;\n",
       "    }\n",
       "\n",
       "    .dataframe thead th {\n",
       "        text-align: right;\n",
       "    }\n",
       "</style>\n",
       "<table border=\"1\" class=\"dataframe\">\n",
       "  <thead>\n",
       "    <tr style=\"text-align: right;\">\n",
       "      <th></th>\n",
       "      <th>level_0</th>\n",
       "      <th>index</th>\n",
       "      <th>id</th>\n",
       "      <th>age</th>\n",
       "      <th>gender</th>\n",
       "      <th>cholesterol</th>\n",
       "      <th>gluc</th>\n",
       "      <th>smoke</th>\n",
       "      <th>alco</th>\n",
       "      <th>active</th>\n",
       "      <th>cardio</th>\n",
       "      <th>bmi</th>\n",
       "      <th>bp</th>\n",
       "    </tr>\n",
       "  </thead>\n",
       "  <tbody>\n",
       "    <tr>\n",
       "      <th>0</th>\n",
       "      <td>0</td>\n",
       "      <td>0</td>\n",
       "      <td>0</td>\n",
       "      <td>18393</td>\n",
       "      <td>2</td>\n",
       "      <td>1</td>\n",
       "      <td>1</td>\n",
       "      <td>0</td>\n",
       "      <td>0</td>\n",
       "      <td>1</td>\n",
       "      <td>0</td>\n",
       "      <td>1</td>\n",
       "      <td>1</td>\n",
       "    </tr>\n",
       "    <tr>\n",
       "      <th>1</th>\n",
       "      <td>1</td>\n",
       "      <td>1</td>\n",
       "      <td>1</td>\n",
       "      <td>20228</td>\n",
       "      <td>1</td>\n",
       "      <td>3</td>\n",
       "      <td>1</td>\n",
       "      <td>0</td>\n",
       "      <td>0</td>\n",
       "      <td>1</td>\n",
       "      <td>1</td>\n",
       "      <td>3</td>\n",
       "      <td>2</td>\n",
       "    </tr>\n",
       "    <tr>\n",
       "      <th>2</th>\n",
       "      <td>2</td>\n",
       "      <td>2</td>\n",
       "      <td>2</td>\n",
       "      <td>18857</td>\n",
       "      <td>1</td>\n",
       "      <td>3</td>\n",
       "      <td>1</td>\n",
       "      <td>0</td>\n",
       "      <td>0</td>\n",
       "      <td>0</td>\n",
       "      <td>1</td>\n",
       "      <td>1</td>\n",
       "      <td>1</td>\n",
       "    </tr>\n",
       "    <tr>\n",
       "      <th>3</th>\n",
       "      <td>3</td>\n",
       "      <td>3</td>\n",
       "      <td>3</td>\n",
       "      <td>17623</td>\n",
       "      <td>2</td>\n",
       "      <td>1</td>\n",
       "      <td>1</td>\n",
       "      <td>0</td>\n",
       "      <td>0</td>\n",
       "      <td>1</td>\n",
       "      <td>1</td>\n",
       "      <td>2</td>\n",
       "      <td>2</td>\n",
       "    </tr>\n",
       "    <tr>\n",
       "      <th>4</th>\n",
       "      <td>4</td>\n",
       "      <td>5</td>\n",
       "      <td>8</td>\n",
       "      <td>21914</td>\n",
       "      <td>1</td>\n",
       "      <td>2</td>\n",
       "      <td>2</td>\n",
       "      <td>0</td>\n",
       "      <td>0</td>\n",
       "      <td>0</td>\n",
       "      <td>0</td>\n",
       "      <td>2</td>\n",
       "      <td>1</td>\n",
       "    </tr>\n",
       "  </tbody>\n",
       "</table>\n",
       "</div>"
      ],
      "text/plain": [
       "   level_0  index  id    age  gender ...  alco  active  cardio  bmi  bp\n",
       "0        0      0   0  18393       2 ...     0       1       0    1   1\n",
       "1        1      1   1  20228       1 ...     0       1       1    3   2\n",
       "2        2      2   2  18857       1 ...     0       0       1    1   1\n",
       "3        3      3   3  17623       2 ...     0       1       1    2   2\n",
       "4        4      5   8  21914       1 ...     0       0       0    2   1\n",
       "\n",
       "[5 rows x 13 columns]"
      ]
     },
     "execution_count": 16,
     "metadata": {},
     "output_type": "execute_result"
    }
   ],
   "source": [
    "cleaned_cardio_dataset = cleaned_cardio_dataset.drop(columns=['ap_hi', 'ap_lo'])\n",
    "cleaned_cardio_dataset.head(5)"
   ]
  },
  {
   "cell_type": "markdown",
   "metadata": {},
   "source": [
    "#### Feature Selection"
   ]
  },
  {
   "cell_type": "markdown",
   "metadata": {},
   "source": [
    "Proses selanjutnya adalah Feature Selection dengan menggunakan seaborn heatmap dan dihitung korelasi antar fitur dengan menggunakan Pearson's Correlation Coefficients. Dari dataframe tersebut, label yang dipilih adalah cardio, sehingga akan dipilih fitur dengan korelasi yang cukup baik dengan label cardio tersebut."
   ]
  },
  {
   "cell_type": "code",
   "execution_count": 17,
   "metadata": {},
   "outputs": [
    {
     "data": {
      "text/plain": [
       "<function matplotlib.pyplot.show(*args, **kw)>"
      ]
     },
     "execution_count": 17,
     "metadata": {},
     "output_type": "execute_result"
    },
    {
     "data": {
      "image/png": "[encoded data removed]",
      "text/plain": [
       "<Figure size 1080x720 with 2 Axes>"
      ]
     },
     "metadata": {},
     "output_type": "display_data"
    }
   ],
   "source": [
    "# Drop kolom index \n",
    "cleaned_cardio_dataset = cleaned_cardio_dataset.drop(columns=['level_0', 'index'])\n",
    "\n",
    "# Plotting heatmap\n",
    "sns.heatmap(cleaned_cardio_dataset.corr(),annot=True,cmap='YlGnBu')\n",
    "fig=plt.gcf()\n",
    "fig.set_size_inches(15,10)\n",
    "plt.show"
   ]
  },
  {
   "cell_type": "markdown",
   "metadata": {},
   "source": [
    "Dari plotting heatmap di atas, fitur yang memiliki korelasi yang cukup baik dengan label cardio adalah age, cholesterol, bmi, dan bp, sehingga fitur tersebut dipilih untuk digunakan di dalam model."
   ]
  },
  {
   "cell_type": "code",
   "execution_count": 18,
   "metadata": {},
   "outputs": [
    {
     "data": {
      "text/html": [
       "<div>\n",
       "<style scoped>\n",
       "    .dataframe tbody tr th:only-of-type {\n",
       "        vertical-align: middle;\n",
       "    }\n",
       "\n",
       "    .dataframe tbody tr th {\n",
       "        vertical-align: top;\n",
       "    }\n",
       "\n",
       "    .dataframe thead th {\n",
       "        text-align: right;\n",
       "    }\n",
       "</style>\n",
       "<table border=\"1\" class=\"dataframe\">\n",
       "  <thead>\n",
       "    <tr style=\"text-align: right;\">\n",
       "      <th></th>\n",
       "      <th>age</th>\n",
       "      <th>cholesterol</th>\n",
       "      <th>gluc</th>\n",
       "      <th>cardio</th>\n",
       "      <th>bmi</th>\n",
       "      <th>bp</th>\n",
       "    </tr>\n",
       "  </thead>\n",
       "  <tbody>\n",
       "    <tr>\n",
       "      <th>0</th>\n",
       "      <td>18393</td>\n",
       "      <td>1</td>\n",
       "      <td>1</td>\n",
       "      <td>0</td>\n",
       "      <td>1</td>\n",
       "      <td>1</td>\n",
       "    </tr>\n",
       "    <tr>\n",
       "      <th>1</th>\n",
       "      <td>20228</td>\n",
       "      <td>3</td>\n",
       "      <td>1</td>\n",
       "      <td>1</td>\n",
       "      <td>3</td>\n",
       "      <td>2</td>\n",
       "    </tr>\n",
       "    <tr>\n",
       "      <th>2</th>\n",
       "      <td>18857</td>\n",
       "      <td>3</td>\n",
       "      <td>1</td>\n",
       "      <td>1</td>\n",
       "      <td>1</td>\n",
       "      <td>1</td>\n",
       "    </tr>\n",
       "    <tr>\n",
       "      <th>3</th>\n",
       "      <td>17623</td>\n",
       "      <td>1</td>\n",
       "      <td>1</td>\n",
       "      <td>1</td>\n",
       "      <td>2</td>\n",
       "      <td>2</td>\n",
       "    </tr>\n",
       "    <tr>\n",
       "      <th>4</th>\n",
       "      <td>21914</td>\n",
       "      <td>2</td>\n",
       "      <td>2</td>\n",
       "      <td>0</td>\n",
       "      <td>2</td>\n",
       "      <td>1</td>\n",
       "    </tr>\n",
       "  </tbody>\n",
       "</table>\n",
       "</div>"
      ],
      "text/plain": [
       "     age  cholesterol  gluc  cardio  bmi  bp\n",
       "0  18393            1     1       0    1   1\n",
       "1  20228            3     1       1    3   2\n",
       "2  18857            3     1       1    1   1\n",
       "3  17623            1     1       1    2   2\n",
       "4  21914            2     2       0    2   1"
      ]
     },
     "execution_count": 18,
     "metadata": {},
     "output_type": "execute_result"
    }
   ],
   "source": [
    "final_cardio = cleaned_cardio_dataset.copy().drop(columns=['id', 'gender', 'smoke', 'alco', 'active'])\n",
    "final_cardio.head(5)"
   ]
  },
  {
   "cell_type": "code",
   "execution_count": 19,
   "metadata": {},
   "outputs": [
    {
     "data": {
      "text/html": [
       "<div>\n",
       "<style scoped>\n",
       "    .dataframe tbody tr th:only-of-type {\n",
       "        vertical-align: middle;\n",
       "    }\n",
       "\n",
       "    .dataframe tbody tr th {\n",
       "        vertical-align: top;\n",
       "    }\n",
       "\n",
       "    .dataframe thead th {\n",
       "        text-align: right;\n",
       "    }\n",
       "</style>\n",
       "<table border=\"1\" class=\"dataframe\">\n",
       "  <thead>\n",
       "    <tr style=\"text-align: right;\">\n",
       "      <th></th>\n",
       "      <th>age</th>\n",
       "      <th>cholesterol</th>\n",
       "      <th>gluc</th>\n",
       "      <th>cardio</th>\n",
       "      <th>bmi</th>\n",
       "      <th>bp</th>\n",
       "    </tr>\n",
       "  </thead>\n",
       "  <tbody>\n",
       "    <tr>\n",
       "      <th>count</th>\n",
       "      <td>53781.000000</td>\n",
       "      <td>53781.000000</td>\n",
       "      <td>53781.000000</td>\n",
       "      <td>53781.000000</td>\n",
       "      <td>53781.000000</td>\n",
       "      <td>53781.000000</td>\n",
       "    </tr>\n",
       "    <tr>\n",
       "      <th>mean</th>\n",
       "      <td>19426.114966</td>\n",
       "      <td>1.333817</td>\n",
       "      <td>1.213719</td>\n",
       "      <td>0.463286</td>\n",
       "      <td>1.820940</td>\n",
       "      <td>1.229523</td>\n",
       "    </tr>\n",
       "    <tr>\n",
       "      <th>std</th>\n",
       "      <td>2467.983842</td>\n",
       "      <td>0.655951</td>\n",
       "      <td>0.560168</td>\n",
       "      <td>0.498655</td>\n",
       "      <td>0.790795</td>\n",
       "      <td>0.420530</td>\n",
       "    </tr>\n",
       "    <tr>\n",
       "      <th>min</th>\n",
       "      <td>14282.000000</td>\n",
       "      <td>1.000000</td>\n",
       "      <td>1.000000</td>\n",
       "      <td>0.000000</td>\n",
       "      <td>0.000000</td>\n",
       "      <td>1.000000</td>\n",
       "    </tr>\n",
       "    <tr>\n",
       "      <th>25%</th>\n",
       "      <td>17615.000000</td>\n",
       "      <td>1.000000</td>\n",
       "      <td>1.000000</td>\n",
       "      <td>0.000000</td>\n",
       "      <td>1.000000</td>\n",
       "      <td>1.000000</td>\n",
       "    </tr>\n",
       "    <tr>\n",
       "      <th>50%</th>\n",
       "      <td>19683.000000</td>\n",
       "      <td>1.000000</td>\n",
       "      <td>1.000000</td>\n",
       "      <td>0.000000</td>\n",
       "      <td>2.000000</td>\n",
       "      <td>1.000000</td>\n",
       "    </tr>\n",
       "    <tr>\n",
       "      <th>75%</th>\n",
       "      <td>21292.000000</td>\n",
       "      <td>1.000000</td>\n",
       "      <td>1.000000</td>\n",
       "      <td>1.000000</td>\n",
       "      <td>2.000000</td>\n",
       "      <td>1.000000</td>\n",
       "    </tr>\n",
       "    <tr>\n",
       "      <th>max</th>\n",
       "      <td>23713.000000</td>\n",
       "      <td>3.000000</td>\n",
       "      <td>3.000000</td>\n",
       "      <td>1.000000</td>\n",
       "      <td>3.000000</td>\n",
       "      <td>2.000000</td>\n",
       "    </tr>\n",
       "  </tbody>\n",
       "</table>\n",
       "</div>"
      ],
      "text/plain": [
       "                age   cholesterol      ...                bmi            bp\n",
       "count  53781.000000  53781.000000      ...       53781.000000  53781.000000\n",
       "mean   19426.114966      1.333817      ...           1.820940      1.229523\n",
       "std     2467.983842      0.655951      ...           0.790795      0.420530\n",
       "min    14282.000000      1.000000      ...           0.000000      1.000000\n",
       "25%    17615.000000      1.000000      ...           1.000000      1.000000\n",
       "50%    19683.000000      1.000000      ...           2.000000      1.000000\n",
       "75%    21292.000000      1.000000      ...           2.000000      1.000000\n",
       "max    23713.000000      3.000000      ...           3.000000      2.000000\n",
       "\n",
       "[8 rows x 6 columns]"
      ]
     },
     "execution_count": 19,
     "metadata": {},
     "output_type": "execute_result"
    }
   ],
   "source": [
    "final_cardio.describe()"
   ]
  },
  {
   "cell_type": "markdown",
   "metadata": {},
   "source": [
    "---"
   ]
  },
  {
   "cell_type": "markdown",
   "metadata": {},
   "source": [
    "### Prediction"
   ]
  },
  {
   "cell_type": "markdown",
   "metadata": {},
   "source": [
    "Pemisahan label dan fitur dari dataframe"
   ]
  },
  {
   "cell_type": "code",
   "execution_count": 20,
   "metadata": {},
   "outputs": [],
   "source": [
    "y_cardio = final_cardio['cardio']\n",
    "x_cardio = final_cardio.drop('cardio', axis=1)"
   ]
  },
  {
   "cell_type": "code",
   "execution_count": 21,
   "metadata": {},
   "outputs": [
    {
     "data": {
      "text/plain": [
       "0    0\n",
       "1    1\n",
       "2    1\n",
       "3    1\n",
       "4    0\n",
       "Name: cardio, dtype: int64"
      ]
     },
     "execution_count": 21,
     "metadata": {},
     "output_type": "execute_result"
    }
   ],
   "source": [
    "y_cardio.head(5)"
   ]
  },
  {
   "cell_type": "code",
   "execution_count": 22,
   "metadata": {},
   "outputs": [
    {
     "data": {
      "text/html": [
       "<div>\n",
       "<style scoped>\n",
       "    .dataframe tbody tr th:only-of-type {\n",
       "        vertical-align: middle;\n",
       "    }\n",
       "\n",
       "    .dataframe tbody tr th {\n",
       "        vertical-align: top;\n",
       "    }\n",
       "\n",
       "    .dataframe thead th {\n",
       "        text-align: right;\n",
       "    }\n",
       "</style>\n",
       "<table border=\"1\" class=\"dataframe\">\n",
       "  <thead>\n",
       "    <tr style=\"text-align: right;\">\n",
       "      <th></th>\n",
       "      <th>age</th>\n",
       "      <th>cholesterol</th>\n",
       "      <th>gluc</th>\n",
       "      <th>bmi</th>\n",
       "      <th>bp</th>\n",
       "    </tr>\n",
       "  </thead>\n",
       "  <tbody>\n",
       "    <tr>\n",
       "      <th>0</th>\n",
       "      <td>18393</td>\n",
       "      <td>1</td>\n",
       "      <td>1</td>\n",
       "      <td>1</td>\n",
       "      <td>1</td>\n",
       "    </tr>\n",
       "    <tr>\n",
       "      <th>1</th>\n",
       "      <td>20228</td>\n",
       "      <td>3</td>\n",
       "      <td>1</td>\n",
       "      <td>3</td>\n",
       "      <td>2</td>\n",
       "    </tr>\n",
       "    <tr>\n",
       "      <th>2</th>\n",
       "      <td>18857</td>\n",
       "      <td>3</td>\n",
       "      <td>1</td>\n",
       "      <td>1</td>\n",
       "      <td>1</td>\n",
       "    </tr>\n",
       "    <tr>\n",
       "      <th>3</th>\n",
       "      <td>17623</td>\n",
       "      <td>1</td>\n",
       "      <td>1</td>\n",
       "      <td>2</td>\n",
       "      <td>2</td>\n",
       "    </tr>\n",
       "    <tr>\n",
       "      <th>4</th>\n",
       "      <td>21914</td>\n",
       "      <td>2</td>\n",
       "      <td>2</td>\n",
       "      <td>2</td>\n",
       "      <td>1</td>\n",
       "    </tr>\n",
       "  </tbody>\n",
       "</table>\n",
       "</div>"
      ],
      "text/plain": [
       "     age  cholesterol  gluc  bmi  bp\n",
       "0  18393            1     1    1   1\n",
       "1  20228            3     1    3   2\n",
       "2  18857            3     1    1   1\n",
       "3  17623            1     1    2   2\n",
       "4  21914            2     2    2   1"
      ]
     },
     "execution_count": 22,
     "metadata": {},
     "output_type": "execute_result"
    }
   ],
   "source": [
    "x_cardio.head(5)"
   ]
  },
  {
   "cell_type": "code",
   "execution_count": 23,
   "metadata": {},
   "outputs": [],
   "source": [
    "x_train, x_test, y_train, y_test = train_test_split(x_cardio, y_cardio, test_size=0.4, random_state=32)\n",
    "x_test, x_validation, y_test, y_validation = train_test_split(x_test, y_test, test_size=0.5, random_state=32)"
   ]
  },
  {
   "cell_type": "code",
   "execution_count": 24,
   "metadata": {},
   "outputs": [
    {
     "name": "stdout",
     "output_type": "stream",
     "text": [
      "Data training (32268, 5), data testing (10756, 5), data validation (10757, 5)\n"
     ]
    }
   ],
   "source": [
    "print(\"Data training {}, data testing {}, data validation {}\".format(x_train.shape, x_test.shape, x_validation.shape))"
   ]
  },
  {
   "cell_type": "code",
   "execution_count": 25,
   "metadata": {},
   "outputs": [],
   "source": [
    "from sklearn.metrics import accuracy_score, log_loss, confusion_matrix, precision_score, f1_score\n",
    "from sklearn.pipeline import Pipeline\n",
    "from sklearn.preprocessing import StandardScaler\n",
    "\n",
    "from sklearn.tree import DecisionTreeClassifier\n",
    "from sklearn.ensemble import RandomForestClassifier, AdaBoostClassifier, GradientBoostingClassifier, BaggingClassifier, ExtraTreesClassifier\n",
    "from sklearn.neural_network import MLPClassifier\n",
    "\n",
    "from sklearn.model_selection import cross_validate\n",
    "\n",
    "import warnings\n",
    "warnings.filterwarnings('ignore')"
   ]
  },
  {
   "cell_type": "code",
   "execution_count": 26,
   "metadata": {},
   "outputs": [
    {
     "name": "stdout",
     "output_type": "stream",
     "text": [
      "RandomForestClassifier\n",
      "Accuracy score:  0.6435477872815173\n",
      "Log loss:  12.311555149119442\n",
      "Confusion matrix: \n",
      "[[3990 1774]\n",
      " [2060 2932]]\n",
      "Precision score:  0.6230344241393965\n",
      "F1 score:  0.604660754794803\n"
     ]
    },
    {
     "data": {
      "image/png": "[encoded data removed]",
      "text/plain": [
       "<Figure size 432x288 with 1 Axes>"
      ]
     },
     "metadata": {},
     "output_type": "display_data"
    },
    {
     "name": "stdout",
     "output_type": "stream",
     "text": [
      "\n",
      "\n",
      "\n",
      "GradientBoostingClassifier\n",
      "Accuracy score:  0.7251766455931573\n",
      "Log loss:  9.492127581842903\n",
      "Confusion matrix: \n",
      "[[4887  877]\n",
      " [2079 2913]]\n",
      "Precision score:  0.7686015831134565\n",
      "F1 score:  0.6634024140286952\n"
     ]
    },
    {
     "data": {
      "image/png": "[encoded data removed]",
      "text/plain": [
       "<Figure size 432x288 with 1 Axes>"
      ]
     },
     "metadata": {},
     "output_type": "display_data"
    },
    {
     "name": "stdout",
     "output_type": "stream",
     "text": [
      "\n",
      "\n",
      "\n",
      "MLPClassifier\n",
      "Accuracy score:  0.7253625883227965\n",
      "Log loss:  9.485702225215727\n",
      "Confusion matrix: \n",
      "[[4929  835]\n",
      " [2119 2873]]\n",
      "Precision score:  0.7748112189859763\n",
      "F1 score:  0.6604597701149425\n"
     ]
    },
    {
     "data": {
      "image/png": "[encoded data removed]",
      "text/plain": [
       "<Figure size 432x288 with 1 Axes>"
      ]
     },
     "metadata": {},
     "output_type": "display_data"
    },
    {
     "name": "stdout",
     "output_type": "stream",
     "text": [
      "\n",
      "\n",
      "\n"
     ]
    }
   ],
   "source": [
    "classifiers = [\n",
    "    RandomForestClassifier(),\n",
    "    GradientBoostingClassifier(),\n",
    "    MLPClassifier()\n",
    "]\n",
    "\n",
    "for classifier in classifiers:\n",
    "    model = Pipeline([(\"Normalize\", StandardScaler()), (\"Classifier\", classifier)])\n",
    "    model.fit(x_train, y_train)   \n",
    "    y_pred = model.predict(x_test)\n",
    "    cf_name = type(classifier).__name__\n",
    "    print(cf_name)\n",
    "    print(\"Accuracy score: \", model.score(x_test, y_test))\n",
    "    print(\"Log loss: \", log_loss(y_test, y_pred))\n",
    "    print(\"Confusion matrix: \")\n",
    "    print(confusion_matrix(y_test, y_pred))\n",
    "    print(\"Precision score: \", precision_score(y_test, y_pred))\n",
    "    print(\"F1 score: \", f1_score(y_test, y_pred))\n",
    "    \n",
    "    cv_results = cross_validate(model, x_validation, y_validation, cv=10)\n",
    "    plt.plot(cv_results[\"test_score\"])\n",
    "    plt.title(\"Test Score with Cross Validation (CV=10)\")\n",
    "    plt.ylabel(\"Accuracy\")\n",
    "    plt.show()\n",
    "    \n",
    "    print(\"\\n\\n\")\n"
   ]
  }
 ],
 "metadata": {
  "kernelspec": {
   "display_name": "Python 3",
   "language": "python",
   "name": "python3"
  },
  "language_info": {
   "codemirror_mode": {
    "name": "ipython",
    "version": 3
   },
   "file_extension": ".py",
   "mimetype": "text/x-python",
   "name": "python",
   "nbconvert_exporter": "python",
   "pygments_lexer": "ipython3",
   "version": "3.6.4"
  }
 },
 "nbformat": 4,
 "nbformat_minor": 1
}
